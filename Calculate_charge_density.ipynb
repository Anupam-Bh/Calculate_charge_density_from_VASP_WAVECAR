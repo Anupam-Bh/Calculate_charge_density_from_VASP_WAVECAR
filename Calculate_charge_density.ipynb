{
 "cells": [
  {
   "cell_type": "markdown",
   "id": "95977a31-fbfb-4111-a80b-de29718e8542",
   "metadata": {},
   "source": [
    "## Read GCOEFF.txt file"
   ]
  },
  {
   "cell_type": "code",
   "execution_count": 1,
   "id": "e0fa74c7-ce22-49dd-afc2-1f53ce751350",
   "metadata": {},
   "outputs": [
    {
     "name": "stdout",
     "output_type": "stream",
     "text": [
      "File Size is 205.31703758239746 MB\n",
      "Number of Lines in the file is 3777213\n",
      "Peak Memory Usage = 1852044\n",
      "User Mode Time = 12.831818\n",
      "System Mode Time = 2.655207\n"
     ]
    }
   ],
   "source": [
    "import os \n",
    "import resource\n",
    "import numpy as np\n",
    "\n",
    "#os.chdir('example_wavecar_InSe/')\n",
    "\n",
    "file_name = 'example_wavecar_InSe/GCOEFF.txt'\n",
    "print(f'File Size is {os.stat(file_name).st_size / (1024 * 1024)} MB')\n",
    "\n",
    "txt_file = open(file_name)\n",
    "lines = txt_file.readlines()\n",
    "\n",
    "#Read info\n",
    "real_lat = []\n",
    "rec_lat = []\n",
    "num_kpts = int(lines[1].split()[0])\n",
    "num_bands = int(lines[2].split()[0])\n",
    "for nn in [3,4,5]:\n",
    "    real_lat.append([float(x) for x in lines[nn].split()])\n",
    "for nn in [6,7,8]:\n",
    "    rec_lat.append([float(x) for x in lines[nn].split()])    \n",
    "\n",
    "#Main loop read fourier components\n",
    "kpts = []\n",
    "Eigenvals = []\n",
    "occupation = []\n",
    "G_values=[]\n",
    "PW_coeff=[]\n",
    "num_plane_waves = []\n",
    "kpt_line = [9]\n",
    "band_line = [10]\n",
    "ev_line = [11]\n",
    "for nk in range(num_kpts):\n",
    "    kpts.append([float(x) for x in lines[kpt_line[-1]].split()])\n",
    "    for nb in range(num_bands):\n",
    "        num_plane_waves.append(int(lines[band_line[nk*num_bands+nb]].split()[1]))\n",
    "        Eigenvals.append([nk,complex(float(lines[ev_line[nk*num_bands+nb]].split()[1]),float(lines[ev_line[nk*num_bands+nb]].split()[3]))])\n",
    "        occupation.append([nk,float(lines[ev_line[nk*num_bands+nb]].split()[5])])\n",
    "        for npw in range(num_plane_waves[nk*num_bands+nb]):\n",
    "            G_values.append([nk,nb, [int(x) for x in lines[ev_line[nk*num_bands+nb]+1+npw].split()[:3]  ]  ])\n",
    "            PW_coeff.append([nk,nb, complex(float(lines[ev_line[nk*num_bands+nb]+1+npw].split()[4]), float(lines[ev_line[nk*num_bands+nb]+1+npw].split()[6]) )   ])\n",
    "        if nb==num_bands-1:\n",
    "            band_line.append( band_line[nk*num_bands+nb]+num_plane_waves[nk*num_bands+nb]+3)\n",
    "            ev_line.append( ev_line[nk*num_bands+nb]+num_plane_waves[nk*num_bands+nb]+3)\n",
    "        else:\n",
    "            band_line.append( band_line[nk*num_bands+nb]+num_plane_waves[nk*num_bands+nb]+2)\n",
    "            ev_line.append( ev_line[nk*num_bands+nb]+num_plane_waves[nk*num_bands+nb]+2)\n",
    "    kpt_line.append(band_line[nk*num_bands+nb]+num_plane_waves[nk*num_bands+nb]+2)\n",
    "    \n",
    "\n",
    "txt_file.close()\n",
    "print(f'Number of Lines in the file is {len(lines)}')\n",
    "print('Peak Memory Usage =', resource.getrusage(resource.RUSAGE_SELF).ru_maxrss)\n",
    "print('User Mode Time =', resource.getrusage(resource.RUSAGE_SELF).ru_utime)\n",
    "print('System Mode Time =', resource.getrusage(resource.RUSAGE_SELF).ru_stime)"
   ]
  },
  {
   "cell_type": "markdown",
   "id": "a7756468-431b-475d-a88b-7d79b704495e",
   "metadata": {
    "scrolled": true
   },
   "source": [
    "### Calculate charge density"
   ]
  },
  {
   "cell_type": "markdown",
   "id": "353ce75c-6c10-43eb-a82f-8069c6b718a4",
   "metadata": {},
   "source": [
    "#### A few new things learned\n",
    "( np.sum(np.array) takes 3-4 times more time than sum(np.array)) \n",
    "\n",
    "Try to use Real and Imag parts separately: that way do dont have to use complex math everytime"
   ]
  },
  {
   "cell_type": "code",
   "execution_count": 6,
   "id": "c0944ec2-f088-439d-a000-69cc979cfee3",
   "metadata": {},
   "outputs": [
    {
     "name": "stdout",
     "output_type": "stream",
     "text": [
      "0\n"
     ]
    },
    {
     "name": "stderr",
     "output_type": "stream",
     "text": [
      "/tmp/ipykernel_237920/1991702696.py:27: ComplexWarning: Casting complex values to real discards the imaginary part\n",
      "  density[i,j,k,:] = np.multiply(np.conj(psin[i,j,k,:]), psin[i,j,k,:])\n"
     ]
    },
    {
     "name": "stdout",
     "output_type": "stream",
     "text": [
      "1\n",
      "2\n"
     ]
    },
    {
     "ename": "KeyboardInterrupt",
     "evalue": "",
     "output_type": "error",
     "traceback": [
      "\u001b[0;31m---------------------------------------------------------------------------\u001b[0m",
      "\u001b[0;31mKeyboardInterrupt\u001b[0m                         Traceback (most recent call last)",
      "Cell \u001b[0;32mIn[6], line 24\u001b[0m\n\u001b[1;32m     22\u001b[0m psir \u001b[38;5;241m=\u001b[39m [[] \u001b[38;5;28;01mfor\u001b[39;00m _ \u001b[38;5;129;01min\u001b[39;00m \u001b[38;5;28mrange\u001b[39m(num_bands)] \n\u001b[1;32m     23\u001b[0m \u001b[38;5;28;01mfor\u001b[39;00m nn, npw \u001b[38;5;129;01min\u001b[39;00m \u001b[38;5;28menumerate\u001b[39m(PW_coeff):\n\u001b[0;32m---> 24\u001b[0m     psir[npw[\u001b[38;5;241m1\u001b[39m]]\u001b[38;5;241m.\u001b[39mappend( npw[\u001b[38;5;241m2\u001b[39m]\u001b[38;5;241m*\u001b[39m\u001b[43mcmath\u001b[49m\u001b[38;5;241;43m.\u001b[39;49m\u001b[43mexp\u001b[49m\u001b[43m(\u001b[49m\u001b[43m \u001b[49m\u001b[43mnp\u001b[49m\u001b[38;5;241;43m.\u001b[39;49m\u001b[43mdot\u001b[49m\u001b[43m(\u001b[49m\u001b[43mkplusG\u001b[49m\u001b[43m[\u001b[49m\u001b[43mnn\u001b[49m\u001b[43m]\u001b[49m\u001b[43m \u001b[49m\u001b[43m,\u001b[49m\u001b[43m \u001b[49m\u001b[43mr\u001b[49m\u001b[43m \u001b[49m\u001b[43m)\u001b[49m\u001b[43m \u001b[49m\u001b[38;5;241;43m*\u001b[39;49m\u001b[38;5;241;43m1\u001b[39;49m\u001b[43mj\u001b[49m\u001b[43m \u001b[49m\u001b[43m)\u001b[49m )\n\u001b[1;32m     26\u001b[0m psin[i,j,k,:] \u001b[38;5;241m=\u001b[39m [\u001b[38;5;28msum\u001b[39m(n) \u001b[38;5;28;01mfor\u001b[39;00m n \u001b[38;5;129;01min\u001b[39;00m psir]\n\u001b[1;32m     27\u001b[0m density[i,j,k,:] \u001b[38;5;241m=\u001b[39m np\u001b[38;5;241m.\u001b[39mmultiply(np\u001b[38;5;241m.\u001b[39mconj(psin[i,j,k,:]), psin[i,j,k,:])\n",
      "\u001b[0;31mKeyboardInterrupt\u001b[0m: "
     ]
    }
   ],
   "source": [
    "### Read OUTCAR\n",
    "from pymatgen.io.vasp import outputs\n",
    "import cmath\n",
    "\n",
    "[NGXF , NGYF , NGZF]=outputs.Outcar('example_wavecar_InSe/OUTCAR').ngf\n",
    "\n",
    "### discretize real lattice into NGXF x NGYF x NGZF\n",
    "##adding only n th band to generate psin\n",
    "iband = 10\n",
    "psin = np.zeros((NGXF , NGYF , NGZF, num_bands),dtype=np.complex_)\n",
    "density = np.zeros((NGXF , NGYF , NGZF, num_bands))\n",
    "kplusG = []\n",
    "\n",
    "for nn, npw in enumerate(PW_coeff):\n",
    "    kplusG.append(list(sum(kpts[npw[0]] , np.dot(rec_lat,G_values[nn][2]) ) ) )\n",
    "      \n",
    "for i in range(NGXF):\n",
    "    for j in range(NGYF):\n",
    "        for k in range(NGZF):\n",
    "            print(k)\n",
    "            r = [i/NGXF, j/NGYF, k/NGZF]\n",
    "            psir = [[] for _ in range(num_bands)] \n",
    "            for nn, npw in enumerate(PW_coeff):\n",
    "                psir[npw[1]].append( npw[2]*cmath.exp( np.dot(kplusG[nn] , r ) *1j ) )\n",
    "            \n",
    "            psin[i,j,k,:] = [sum(n) for n in psir]\n",
    "            density[i,j,k,:] = np.multiply(np.conj(psin[i,j,k,:]), psin[i,j,k,:])\n",
    "                    \n",
    "\n",
    "                \n"
   ]
  },
  {
   "cell_type": "code",
   "execution_count": 17,
   "id": "0c973ed1-7047-4896-813d-216816029e5b",
   "metadata": {},
   "outputs": [
    {
     "name": "stdout",
     "output_type": "stream",
     "text": [
      "81.9 ms ± 1.08 ms per loop (mean ± std. dev. of 7 runs, 10 loops each)\n"
     ]
    }
   ],
   "source": [
    "timeit [np.sum(n) for n in psir]"
   ]
  },
  {
   "cell_type": "code",
   "execution_count": 102,
   "id": "e8c53603-c19d-4eb9-9b65-bbb7d809ce23",
   "metadata": {},
   "outputs": [
    {
     "ename": "MemoryError",
     "evalue": "Unable to allocate 53.4 TiB for an array with shape (1944000, 3776616) and data type float64",
     "output_type": "error",
     "traceback": [
      "\u001b[0;31m---------------------------------------------------------------------------\u001b[0m",
      "\u001b[0;31mMemoryError\u001b[0m                               Traceback (most recent call last)",
      "Cell \u001b[0;32mIn[102], line 25\u001b[0m\n\u001b[1;32m     22\u001b[0m r_grid_flat \u001b[38;5;241m=\u001b[39m r_grid\u001b[38;5;241m.\u001b[39mreshape(\u001b[38;5;241m-\u001b[39m\u001b[38;5;241m1\u001b[39m, \u001b[38;5;241m3\u001b[39m)\n\u001b[1;32m     24\u001b[0m \u001b[38;5;66;03m# Compute phase factors exp[i * (k + G) · r] for all PW_coeff entries and grid points\u001b[39;00m\n\u001b[0;32m---> 25\u001b[0m phase_factors \u001b[38;5;241m=\u001b[39m np\u001b[38;5;241m.\u001b[39mexp(\u001b[38;5;241m1\u001b[39mj \u001b[38;5;241m*\u001b[39m \u001b[43mnp\u001b[49m\u001b[38;5;241;43m.\u001b[39;49m\u001b[43mdot\u001b[49m\u001b[43m(\u001b[49m\u001b[43mr_grid_flat\u001b[49m\u001b[43m,\u001b[49m\u001b[43m \u001b[49m\u001b[43mkplusG\u001b[49m\u001b[38;5;241;43m.\u001b[39;49m\u001b[43mT\u001b[49m\u001b[43m)\u001b[49m)  \u001b[38;5;66;03m# Shape: (NGXF*NGYF*NGZF, len(PW_coeff))\u001b[39;00m\n\u001b[1;32m     27\u001b[0m \u001b[38;5;66;03m# Initialize psir array with zeros\u001b[39;00m\n\u001b[1;32m     28\u001b[0m psir \u001b[38;5;241m=\u001b[39m np\u001b[38;5;241m.\u001b[39mzeros((\u001b[38;5;28mlen\u001b[39m(PW_coeff), num_bands), dtype\u001b[38;5;241m=\u001b[39mnp\u001b[38;5;241m.\u001b[39mcomplex_)\n",
      "\u001b[0;31mMemoryError\u001b[0m: Unable to allocate 53.4 TiB for an array with shape (1944000, 3776616) and data type float64"
     ]
    }
   ],
   "source": [
    "#### CHATGPT alternative\n",
    "import numpy as np\n",
    "\n",
    "# Assuming required variables are preloaded: NGXF, NGYF, NGZF, num_bands, PW_coeff, kpts, rec_lat, G_values\n",
    "\n",
    "# Initialize psin with zeros\n",
    "psin = np.zeros((NGXF, NGYF, NGZF, num_bands), dtype=np.complex64)\n",
    "\n",
    "# Precompute k + G vectors\n",
    "kplusG = np.array([kpts[npw[0]] + np.dot(rec_lat, G_values[nn][2]) for nn, npw in enumerate(PW_coeff)])\n",
    "\n",
    "# Generate real-space grid\n",
    "x = np.linspace(0, 1, NGXF, endpoint=False)\n",
    "y = np.linspace(0, 1, NGYF, endpoint=False)\n",
    "z = np.linspace(0, 1, NGZF, endpoint=False)\n",
    "X, Y, Z = np.meshgrid(x, y, z, indexing='ij')\n",
    "\n",
    "# Combine the real-space grid into a single array of shape (NGXF, NGYF, NGZF, 3)\n",
    "r_grid = np.stack((X, Y, Z), axis=-1)\n",
    "\n",
    "# Reshape the grid to a 2D array of shape (NGXF*NGYF*NGZF, 3) for easier computation\n",
    "r_grid_flat = r_grid.reshape(-1, 3)\n",
    "\n",
    "# Compute phase factors exp[i * (k + G) · r] for all PW_coeff entries and grid points\n",
    "phase_factors = np.exp(1j * np.dot(r_grid_flat, kplusG.T))  # Shape: (NGXF*NGYF*NGZF, len(PW_coeff))\n",
    "\n",
    "# Initialize psir array with zeros\n",
    "psir = np.zeros((len(PW_coeff), num_bands), dtype=np.complex_)\n",
    "\n",
    "# Group contributions to psir by band\n",
    "for nn, npw in enumerate(PW_coeff):\n",
    "    psir[nn, npw[1]] += npw[2] * phase_factors[:, nn]\n",
    "\n",
    "# Sum over bands\n",
    "psin_flat = psir.sum(axis=0)\n",
    "\n",
    "# Reshape psin back to grid shape\n",
    "psin = psin_flat.reshape(NGXF, NGYF, NGZF, num_bands)\n",
    "\n",
    "\n"
   ]
  },
  {
   "cell_type": "code",
   "execution_count": null,
   "id": "6c97bd8d-aac4-4b52-8605-378c095922f4",
   "metadata": {},
   "outputs": [],
   "source": []
  }
 ],
 "metadata": {
  "kernelspec": {
   "display_name": "Python 3 (ipykernel)",
   "language": "python",
   "name": "python3"
  },
  "language_info": {
   "codemirror_mode": {
    "name": "ipython",
    "version": 3
   },
   "file_extension": ".py",
   "mimetype": "text/x-python",
   "name": "python",
   "nbconvert_exporter": "python",
   "pygments_lexer": "ipython3",
   "version": "3.12.4"
  }
 },
 "nbformat": 4,
 "nbformat_minor": 5
}
